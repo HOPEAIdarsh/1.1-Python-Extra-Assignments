{
 "cells": [
  {
   "cell_type": "code",
   "execution_count": 1,
   "id": "98caee54-9201-4286-b896-d5ac01630c0b",
   "metadata": {},
   "outputs": [
    {
     "name": "stdout",
     "output_type": "stream",
     "text": [
      "HOPE AI\n"
     ]
    }
   ],
   "source": [
    "print('HOPE AI')"
   ]
  },
  {
   "cell_type": "code",
   "execution_count": 2,
   "id": "3df65cc9-b278-4537-b352-ff52c129104d",
   "metadata": {},
   "outputs": [
    {
     "name": "stdin",
     "output_type": "stream",
     "text": [
      "Enter your institute name?: HOPE AI\n"
     ]
    },
    {
     "name": "stdout",
     "output_type": "stream",
     "text": [
      "\n"
     ]
    }
   ],
   "source": [
    "input('Enter your institute name?:')\n",
    "print()\n"
   ]
  },
  {
   "cell_type": "code",
   "execution_count": 3,
   "id": "054b5dfb-17bf-4d24-a380-1a820389d3a6",
   "metadata": {},
   "outputs": [
    {
     "name": "stdin",
     "output_type": "stream",
     "text": [
      "Enter your name: Raj\n"
     ]
    },
    {
     "name": "stdout",
     "output_type": "stream",
     "text": [
      "\n"
     ]
    },
    {
     "name": "stdin",
     "output_type": "stream",
     "text": [
      "Enter your age: 15\n"
     ]
    },
    {
     "name": "stdout",
     "output_type": "stream",
     "text": [
      "\n"
     ]
    },
    {
     "name": "stdin",
     "output_type": "stream",
     "text": [
      "Enter your School name: Guru School\n"
     ]
    },
    {
     "name": "stdout",
     "output_type": "stream",
     "text": [
      "\n"
     ]
    },
    {
     "name": "stdin",
     "output_type": "stream",
     "text": [
      "Enter your Degree: B.E CSE\n"
     ]
    },
    {
     "name": "stdout",
     "output_type": "stream",
     "text": [
      "\n"
     ]
    }
   ],
   "source": [
    "input('Enter your name:')\n",
    "print()\n",
    "input('Enter your age:')\n",
    "print()\n",
    "input('Enter your School name:')\n",
    "print()\n",
    "input('Enter your Degree:')\n",
    "print()\n"
   ]
  },
  {
   "cell_type": "code",
   "execution_count": 4,
   "id": "33798616-dce3-4cb4-b690-3851a4fb919e",
   "metadata": {},
   "outputs": [
    {
     "name": "stdout",
     "output_type": "stream",
     "text": [
      "a = 43\n",
      "b= 34\n",
      "Add= 77\n"
     ]
    }
   ],
   "source": [
    "a=43\n",
    "print('a =',a)\n",
    "b=34\n",
    "print('b=',b)\n",
    "Add=a+b\n",
    "print('Add=',Add)"
   ]
  },
  {
   "cell_type": "code",
   "execution_count": 6,
   "id": "7b0f5a70-868d-4783-87d8-9c69a434a218",
   "metadata": {},
   "outputs": [
    {
     "name": "stdout",
     "output_type": "stream",
     "text": [
      "a= 43\n",
      "b= 34\n",
      "Sub= 9\n"
     ]
    }
   ],
   "source": [
    "a=43\n",
    "print('a=',a)\n",
    "b=34\n",
    "print('b=',b)\n",
    "Sub=a-b\n",
    "print('Sub=',Sub)"
   ]
  },
  {
   "cell_type": "code",
   "execution_count": 7,
   "id": "edd6f3dd-c11f-4a85-a3e7-6c8906aa0901",
   "metadata": {},
   "outputs": [
    {
     "name": "stdout",
     "output_type": "stream",
     "text": [
      "a = 63\n",
      "b= 97\n",
      "Mul= 6111\n"
     ]
    }
   ],
   "source": [
    "a=63\n",
    "print('a =',a)\n",
    "b=97\n",
    "print('b=',b)\n",
    "Mul=a*b\n",
    "print('Mul=',Mul)"
   ]
  },
  {
   "cell_type": "code",
   "execution_count": 22,
   "id": "7995bb73-6af6-47bc-9301-c4d7fe5c6b1e",
   "metadata": {},
   "outputs": [
    {
     "name": "stdout",
     "output_type": "stream",
     "text": [
      "a = 76\n",
      "b= 31\n",
      "Float Div= 2.4516129032258065\n"
     ]
    }
   ],
   "source": [
    "a=76\n",
    "print('a =',a)\n",
    "b=31\n",
    "print('b=',b)\n",
    "Div=a/b\n",
    "print('Float Div=', Div)"
   ]
  },
  {
   "cell_type": "code",
   "execution_count": 20,
   "id": "94fcccbc-d9d6-47f3-b685-23ad18b7744a",
   "metadata": {},
   "outputs": [
    {
     "name": "stdout",
     "output_type": "stream",
     "text": [
      "a = 76\n",
      "b= 31\n",
      "Floor Div= 2\n"
     ]
    }
   ],
   "source": [
    "a=76\n",
    "print('a =',a)\n",
    "b=31\n",
    "print('b=',b)\n",
    "FloorDiv=a//b\n",
    "print('Floor Div=', Div)"
   ]
  },
  {
   "cell_type": "code",
   "execution_count": 15,
   "id": "d45e3235-019e-485a-a814-29348e4d9ad5",
   "metadata": {},
   "outputs": [
    {
     "name": "stdout",
     "output_type": "stream",
     "text": [
      "a = 76\n",
      "b= 31\n",
      "Modulo= 14\n"
     ]
    }
   ],
   "source": [
    "a=76\n",
    "print('a =',a)\n",
    "b=31\n",
    "print('b=',b)\n",
    "Modulo=a%b\n",
    "print('Modulo=', Modulo)"
   ]
  },
  {
   "cell_type": "code",
   "execution_count": 19,
   "id": "9cb789cc-dcea-4f19-8329-70e911a6e71b",
   "metadata": {},
   "outputs": [
    {
     "name": "stdout",
     "output_type": "stream",
     "text": [
      "a = 4\n",
      "b= 4\n",
      "Power= 256\n"
     ]
    }
   ],
   "source": [
    "a=4\n",
    "print('a =',a)\n",
    "b=4\n",
    "print('b=',b)\n",
    "Power=a**b\n",
    "print('Power=', Power)"
   ]
  }
 ],
 "metadata": {
  "kernelspec": {
   "display_name": "Python 3 (ipykernel)",
   "language": "python",
   "name": "python3"
  },
  "language_info": {
   "codemirror_mode": {
    "name": "ipython",
    "version": 3
   },
   "file_extension": ".py",
   "mimetype": "text/x-python",
   "name": "python",
   "nbconvert_exporter": "python",
   "pygments_lexer": "ipython3",
   "version": "3.11.5"
  }
 },
 "nbformat": 4,
 "nbformat_minor": 5
}
