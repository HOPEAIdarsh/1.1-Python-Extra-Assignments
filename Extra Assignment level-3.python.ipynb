{
 "cells": [
  {
   "cell_type": "code",
   "execution_count": 4,
   "id": "4f0542b6-7a1f-4103-ab40-6378e5ab12ee",
   "metadata": {},
   "outputs": [
    {
     "name": "stdin",
     "output_type": "stream",
     "text": [
      "Value: 10\n"
     ]
    },
    {
     "name": "stdout",
     "output_type": "stream",
     "text": [
      "CORRECT\n"
     ]
    }
   ],
   "source": [
    "i=int(input(\"Value:\"))\n",
    "if(i == 10):\n",
    "    print(\"CORRECT\")\n"
   ]
  },
  {
   "cell_type": "code",
   "execution_count": 53,
   "id": "860c4b95-c96d-421b-9dd8-51d5076808e5",
   "metadata": {},
   "outputs": [
    {
     "name": "stdin",
     "output_type": "stream",
     "text": [
      "Age: 20\n"
     ]
    },
    {
     "name": "stdout",
     "output_type": "stream",
     "text": [
      "Adult\n"
     ]
    }
   ],
   "source": [
    "age=int(input(\"Age:\"))\n",
    "if(age<18):\n",
    "    print('Children')\n",
    "elif(age<35):\n",
    "    print('Adult')\n",
    "elif(age<59):\n",
    "    print('Citizen')\n",
    "else:\n",
    "    print('Senior Citizen')\n",
    "    \n",
    "\n",
    "    "
   ]
  },
  {
   "cell_type": "code",
   "execution_count": 47,
   "id": "474c1496-5d01-4001-9b98-b9f7d7c66775",
   "metadata": {},
   "outputs": [
    {
     "name": "stdin",
     "output_type": "stream",
     "text": [
      "Enter any number: 1\n"
     ]
    },
    {
     "name": "stdout",
     "output_type": "stream",
     "text": [
      "No is postivie\n"
     ]
    }
   ],
   "source": [
    "num=float(input(\"Enter any number:\"))\n",
    "if num>0:\n",
    "    print(\"No is postivie\")\n",
    "else:\n",
    "    print(\"No is Negative\")"
   ]
  },
  {
   "cell_type": "code",
   "execution_count": 46,
   "id": "9a9526d0-db0d-428c-9eeb-f9979e718f48",
   "metadata": {},
   "outputs": [
    {
     "name": "stdin",
     "output_type": "stream",
     "text": [
      "Enter a number to check 22\n"
     ]
    },
    {
     "name": "stdout",
     "output_type": "stream",
     "text": [
      "Is not divible by 5\n"
     ]
    }
   ],
   "source": [
    "\n",
    "num=int(input(\"Enter a number to check\"))\n",
    "if(num % 5 == 0):\n",
    "    print(\"Is divible by 5\")\n",
    "else:\n",
    "    print(\"Is not divible by 5\")"
   ]
  },
  {
   "cell_type": "code",
   "execution_count": null,
   "id": "2d7c6da0-e1c2-4e63-bb66-c6f2ab2bf04d",
   "metadata": {},
   "outputs": [],
   "source": []
  }
 ],
 "metadata": {
  "kernelspec": {
   "display_name": "Python 3 (ipykernel)",
   "language": "python",
   "name": "python3"
  },
  "language_info": {
   "codemirror_mode": {
    "name": "ipython",
    "version": 3
   },
   "file_extension": ".py",
   "mimetype": "text/x-python",
   "name": "python",
   "nbconvert_exporter": "python",
   "pygments_lexer": "ipython3",
   "version": "3.11.5"
  }
 },
 "nbformat": 4,
 "nbformat_minor": 5
}
