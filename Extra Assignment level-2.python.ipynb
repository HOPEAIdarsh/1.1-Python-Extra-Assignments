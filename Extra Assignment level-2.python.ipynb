{
 "cells": [
  {
   "cell_type": "code",
   "execution_count": 1,
   "id": "58a26eb7-00cb-4ecc-a1de-d0046ca63e0c",
   "metadata": {},
   "outputs": [
    {
     "name": "stdout",
     "output_type": "stream",
     "text": [
      "0\n",
      "1\n",
      "2\n",
      "3\n",
      "4\n",
      "5\n",
      "6\n",
      "7\n",
      "8\n",
      "9\n",
      "10\n",
      "11\n",
      "12\n",
      "13\n",
      "14\n",
      "15\n",
      "16\n",
      "17\n",
      "18\n",
      "19\n"
     ]
    }
   ],
   "source": [
    "for temp in range(0,20):\n",
    "    print(temp)"
   ]
  },
  {
   "cell_type": "code",
   "execution_count": 8,
   "id": "80153533-06e6-4850-b272-e86aaa1c53d3",
   "metadata": {},
   "outputs": [
    {
     "name": "stdout",
     "output_type": "stream",
     "text": [
      "10 11 12 13 14 15 16 17 18 19 \n"
     ]
    }
   ],
   "source": [
    "for temp in range(10,20):\n",
    "    print(temp, end=\" \")\n",
    "print()"
   ]
  },
  {
   "cell_type": "code",
   "execution_count": 28,
   "id": "f46f0a21-945e-4c53-9b66-f667f299baca",
   "metadata": {},
   "outputs": [
    {
     "name": "stdout",
     "output_type": "stream",
     "text": [
      "[10, 20, 14, 55, 43, 87, 76]\n",
      "Number of elements in List2: 7\n"
     ]
    }
   ],
   "source": [
    "element_list = [10,20,14,55,43,87,76]   \n",
    "print(element_list)\n",
    "print(\"Number of elements in List2:\", len(element_list))"
   ]
  },
  {
   "cell_type": "code",
   "execution_count": 27,
   "id": "a87f0dc1-361b-448d-b290-c000ab6b7606",
   "metadata": {},
   "outputs": [
    {
     "name": "stdout",
     "output_type": "stream",
     "text": [
      "Artificial Intelligence\n",
      "A\n",
      "r\n",
      "t\n",
      "i\n",
      "f\n",
      "i\n",
      "c\n",
      "i\n",
      "a\n",
      "l\n",
      " \n",
      "I\n",
      "n\n",
      "t\n",
      "e\n",
      "l\n",
      "l\n",
      "i\n",
      "g\n",
      "e\n",
      "n\n",
      "c\n",
      "e\n",
      "\n"
     ]
    }
   ],
   "source": [
    "test_str = 'Artificial Intelligence'\n",
    " \n",
    "print( str(test_str))\n",
    "res = ''\n",
    "for ele in test_str:\n",
    "    res  += ele + \"\\n\"\n",
    "print( str(res)) \n"
   ]
  },
  {
   "cell_type": "code",
   "execution_count": 17,
   "id": "8acccb40-1155-4989-a14e-f2112cfff9f3",
   "metadata": {},
   "outputs": [
    {
     "name": "stdout",
     "output_type": "stream",
     "text": [
      "-Your Name-\n",
      "-Your Age-\n",
      "-your Profession-\n"
     ]
    }
   ],
   "source": [
    "print('-Your Name-')\n",
    "print('-Your Age-')\n",
    "print('-your Profession-')"
   ]
  },
  {
   "cell_type": "code",
   "execution_count": 37,
   "id": "df212713-100e-4972-bfe5-352bab4ffae6",
   "metadata": {},
   "outputs": [
    {
     "name": "stdout",
     "output_type": "stream",
     "text": [
      "(5, 'Welcome', 7, 'Geeks')\n"
     ]
    }
   ],
   "source": [
    "Tuple1 = (5, 'Welcome', 7, 'Geeks')\n",
    "print(Tuple1)"
   ]
  },
  {
   "cell_type": "code",
   "execution_count": 38,
   "id": "eeb8fdf5-91e0-426e-ae19-e8f6168dc382",
   "metadata": {},
   "outputs": [
    {
     "name": "stdout",
     "output_type": "stream",
     "text": [
      "((0, 1, 2, 3), ('python', 'HOPE'))\n"
     ]
    }
   ],
   "source": [
    "Tuple1 = ((0,1,2,3,),('python','HOPE'))\n",
    "print(Tuple1)"
   ]
  },
  {
   "cell_type": "code",
   "execution_count": 63,
   "id": "f176c00c-53f7-4c4a-a9ed-257837808c18",
   "metadata": {},
   "outputs": [
    {
     "name": "stdout",
     "output_type": "stream",
     "text": [
      "(20, 10, 16, 19, 25, 1, 276, 188)\n",
      "19 is odd \n",
      " 25 is odd \n",
      " 1 is odd \n",
      " "
     ]
    }
   ],
   "source": [
    " \n",
    "list1 = (20,10,16,19,25,1,276,188)\n",
    "print(list1)\n",
    "for num in list1:\n",
    "    if num % 2 != 0:\n",
    "        print(num, end=\" is odd \\n \") "
   ]
  },
  {
   "cell_type": "code",
   "execution_count": 65,
   "id": "4c0f9e27-0b29-4cf1-b8ec-cd757c991411",
   "metadata": {},
   "outputs": [
    {
     "name": "stdout",
     "output_type": "stream",
     "text": [
      "(20, 10, 16, 19, 25, 1, 276, 188)\n",
      "20 is even \n",
      " 10 is even \n",
      " 16 is even \n",
      " 276 is even \n",
      " 188 is even \n",
      " "
     ]
    }
   ],
   "source": [
    "list1 = (20,10,16,19,25,1,276,188)\n",
    "print(list1)\n",
    "for num in list1:\n",
    "    if num % 2 == 0:\n",
    "        print(num, end=\" is even \\n \") "
   ]
  },
  {
   "cell_type": "code",
   "execution_count": null,
   "id": "6eda51bf-d623-4137-9016-4e664dcbbfc1",
   "metadata": {},
   "outputs": [],
   "source": []
  }
 ],
 "metadata": {
  "kernelspec": {
   "display_name": "Python 3 (ipykernel)",
   "language": "python",
   "name": "python3"
  },
  "language_info": {
   "codemirror_mode": {
    "name": "ipython",
    "version": 3
   },
   "file_extension": ".py",
   "mimetype": "text/x-python",
   "name": "python",
   "nbconvert_exporter": "python",
   "pygments_lexer": "ipython3",
   "version": "3.11.5"
  }
 },
 "nbformat": 4,
 "nbformat_minor": 5
}
